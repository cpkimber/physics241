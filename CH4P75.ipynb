{
 "cells": [
  {
   "cell_type": "code",
   "execution_count": 9,
   "metadata": {},
   "outputs": [],
   "source": [
    "%matplotlib nbagg\n",
    "from vpython import *"
   ]
  },
  {
   "cell_type": "code",
   "execution_count": 7,
   "metadata": {},
   "outputs": [],
   "source": [
    "L0  = 0.1   # meters\n",
    "dx  = 0.02  # meters\n",
    "m   = 0.1   # kg\n",
    "t   = 0     # seconds\n",
    "dt  = 0.01  # seconds\n",
    "v0  = 0     # m/s"
   ]
  },
  {
   "cell_type": "markdown",
   "metadata": {},
   "source": [
    "floor      = box(size = vector(1,0.01,0.2))\n",
    "wall       = box(pos = vector(-0.499,0.1,0),size = vector(0.01,0.2,0.2), color = color.cyan)\n",
    "the_device = box(pos = vector(-0.399+dx,0.1,0), size = vector(0.01,0.2,0.1), color = color.green)\n",
    "sprang     = helix(pos = wall.pos, radius = 0.05, axis = the_device.pos - wall.pos) "
   ]
  },
  {
   "cell_type": "code",
   "execution_count": 8,
   "metadata": {
    "collapsed": true
   },
   "outputs": [],
   "source": [
    "k        = 2E9\n",
    "p_device = m * vector(0,0,0)"
   ]
  },
  {
   "cell_type": "code",
   "execution_count": null,
   "metadata": {},
   "outputs": [
    {
     "name": "stdout",
     "output_type": "stream",
     "text": [
      "ERROR! Session/line number was not unique in database. History logging moved to new session 192\n"
     ]
    }
   ],
   "source": [
    "floor      = box(size = vector(1,0.01,0.2))\n",
    "wall       = box(pos = vector(-0.499,0.1,0),size = vector(0.01,0.2,0.2), color = color.cyan)\n",
    "the_device = box(pos = vector(-0.399+dx,0.1,0), size = vector(0.01,0.2,0.1), color = color.green)\n",
    "sprang     = helix(pos = wall.pos, radius = 0.05, axis = the_device.pos - wall.pos) \n",
    "\n",
    "while t < 10:\n",
    "    rate(100)\n",
    "    L    =  the_device.pos - sprang.pos\n",
    "    Lhat =  L/mag(L)\n",
    "    s    =  mag(L) - L0\n",
    "    F_sp =  -k * s ** 7 * Lhat\n",
    "    "
   ]
  },
  {
   "cell_type": "code",
   "execution_count": null,
   "metadata": {
    "collapsed": true
   },
   "outputs": [],
   "source": []
  }
 ],
 "metadata": {
  "kernelspec": {
   "display_name": "Python 3",
   "language": "python",
   "name": "python3"
  },
  "language_info": {
   "codemirror_mode": {
    "name": "ipython",
    "version": 2
   },
   "file_extension": ".py",
   "mimetype": "text/x-python",
   "name": "python",
   "nbconvert_exporter": "python",
   "pygments_lexer": "ipython2",
   "version": "2.7.13"
  }
 },
 "nbformat": 4,
 "nbformat_minor": 2
}
