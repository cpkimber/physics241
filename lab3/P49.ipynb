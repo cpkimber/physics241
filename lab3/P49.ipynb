{
 "cells": [
  {
   "cell_type": "code",
   "execution_count": 2,
   "metadata": {},
   "outputs": [],
   "source": [
    "##################################\n",
    "#\n",
    "#  Physics 241\n",
    "#  Lab 3\n",
    "#  Chapter 2 Problem 49\n",
    "#  Group 4\n",
    "#  Driver: Cam Kimber\n",
    "#  Navigator: James Gallegos\n",
    "#  13 September 2017\n",
    "#\n",
    "##################################"
   ]
  },
  {
   "cell_type": "code",
   "execution_count": 9,
   "metadata": {
    "scrolled": true
   },
   "outputs": [],
   "source": [
    "from vpython import *\n",
    "from matplotlib import pyplot as plt\n",
    "%matplotlib inline"
   ]
  },
  {
   "cell_type": "code",
   "execution_count": 10,
   "metadata": {},
   "outputs": [],
   "source": [
    "time  = []\n",
    "x_pos = []"
   ]
  },
  {
   "cell_type": "markdown",
   "metadata": {},
   "source": [
    "Here we begin by making the cart and track objects, and giving the cart some initial conditions. Afterwards is the loop that makes the cart move on the track. For this problem, we make a graph that plots either the x component of the cart's position or the x component of the cart's momentum."
   ]
  },
  {
   "cell_type": "code",
   "execution_count": 11,
   "metadata": {},
   "outputs": [
    {
     "name": "stdout",
     "output_type": "stream",
     "text": [
      "To reach the end of the track, it takes 4.160599126274123 seconds.\n",
      "End of the loop\n"
     ]
    },
    {
     "data": {
      "image/png": "[encoded data removed]",
      "text/plain": [
       "<matplotlib.figure.Figure at 0x7faedbefde80>"
      ]
     },
     "metadata": {},
     "output_type": "display_data"
    }
   ],
   "source": [
    "track = box(pos = vector(0, -0.025, 0), size = vector(2.0, 0.05, 0.10), color = color.white)\n",
    "cart  = box(pos = vector(0.951, 0.025, 0),  size = vector(0.1, 0.04, 0.06), color = color.green, make_trail = True)\n",
    "m_cart  = 0.8                            # Kilograms\n",
    "p_cart  = m_cart * vector(-0.5, 0.1, 0)  # Kilogram meters/second\n",
    "delta_t = 0.01                           # Seconds\n",
    "t       = 0                              # Seconds \n",
    "while t < 14:\n",
    "    rate(5000)\n",
    "    F_air = vector(.056, 0, 0)\n",
    "    p_cart = p_cart + F_air * delta_t\n",
    "    cart.pos = cart.pos + (p_cart)/(m_cart) * delta_t\n",
    "    time.append(t)\n",
    "    x_pos.append(p_cart.x)\n",
    "    t+=delta_t\n",
    "plt.plot(time,x_pos)\n",
    "print(\"To reach the end of the track, it takes\", track.size.x * m_cart/p_cart.x, \"seconds.\")\n",
    "print(\"End of the loop\")"
   ]
  },
  {
   "cell_type": "code",
   "execution_count": null,
   "metadata": {
    "collapsed": true
   },
   "outputs": [],
   "source": []
  }
 ],
 "metadata": {
  "kernelspec": {
   "display_name": "Python 3",
   "language": "python",
   "name": "python3"
  },
  "language_info": {
   "codemirror_mode": {
    "name": "ipython",
    "version": 3
   },
   "file_extension": ".py",
   "mimetype": "text/x-python",
   "name": "python",
   "nbconvert_exporter": "python",
   "pygments_lexer": "ipython3",
   "version": "3.6.1"
  }
 },
 "nbformat": 4,
 "nbformat_minor": 2
}
