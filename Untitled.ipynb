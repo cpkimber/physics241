{
 "cells": [
  {
   "cell_type": "code",
   "execution_count": 13,
   "metadata": {},
   "outputs": [],
   "source": [
    "from vpython import *\n",
    "import numpy as np"
   ]
  },
  {
   "cell_type": "code",
   "execution_count": 24,
   "metadata": {},
   "outputs": [
    {
     "ename": "AttributeError",
     "evalue": "'curve' object has no attribute 'plot'",
     "output_type": "error",
     "traceback": [
      "\u001b[0;31m---------------------------------------------------------------------------\u001b[0m",
      "\u001b[0;31mAttributeError\u001b[0m                            Traceback (most recent call last)",
      "\u001b[0;32m<ipython-input-24-fdbe29bc6c2a>\u001b[0m in \u001b[0;36m<module>\u001b[0;34m()\u001b[0m\n\u001b[1;32m     29\u001b[0m     \u001b[0mrate\u001b[0m\u001b[0;34m(\u001b[0m\u001b[0;36m1000\u001b[0m\u001b[0;34m)\u001b[0m          \u001b[0;31m## slow down motion to make animation look nicer\u001b[0m\u001b[0;34m\u001b[0m\u001b[0m\n\u001b[1;32m     30\u001b[0m     \u001b[0mrce\u001b[0m       \u001b[0;34m=\u001b[0m \u001b[0mcraft\u001b[0m\u001b[0;34m.\u001b[0m\u001b[0mpos\u001b[0m\u001b[0;34m-\u001b[0m\u001b[0mEarth\u001b[0m\u001b[0;34m.\u001b[0m\u001b[0mpos\u001b[0m\u001b[0;34m\u001b[0m\u001b[0m\n\u001b[0;32m---> 31\u001b[0;31m     \u001b[0mf1\u001b[0m\u001b[0;34m.\u001b[0m\u001b[0mplot\u001b[0m\u001b[0;34m(\u001b[0m\u001b[0mpos\u001b[0m\u001b[0;34m=\u001b[0m\u001b[0;34m(\u001b[0m\u001b[0mt\u001b[0m\u001b[0;34m/\u001b[0m\u001b[0myear_in_s\u001b[0m\u001b[0;34m,\u001b[0m\u001b[0mmag\u001b[0m\u001b[0;34m(\u001b[0m\u001b[0mrce\u001b[0m\u001b[0;34m)\u001b[0m\u001b[0;34m/\u001b[0m\u001b[0mEarth\u001b[0m\u001b[0;34m.\u001b[0m\u001b[0mradius\u001b[0m\u001b[0;34m)\u001b[0m\u001b[0;34m)\u001b[0m\u001b[0;34m\u001b[0m\u001b[0m\n\u001b[0m\u001b[1;32m     32\u001b[0m     \u001b[0mFg_mag\u001b[0m    \u001b[0;34m=\u001b[0m \u001b[0mG\u001b[0m \u001b[0;34m*\u001b[0m \u001b[0mmEarth\u001b[0m \u001b[0;34m*\u001b[0m \u001b[0mmcraft\u001b[0m \u001b[0;34m/\u001b[0m\u001b[0mmag\u001b[0m\u001b[0;34m(\u001b[0m\u001b[0mrce\u001b[0m\u001b[0;34m)\u001b[0m \u001b[0;34m**\u001b[0m \u001b[0;36m2\u001b[0m\u001b[0;34m\u001b[0m\u001b[0m\n\u001b[1;32m     33\u001b[0m     \u001b[0mFg_hat\u001b[0m    \u001b[0;34m=\u001b[0m \u001b[0;34m-\u001b[0m\u001b[0mnorm\u001b[0m\u001b[0;34m(\u001b[0m\u001b[0mrce\u001b[0m\u001b[0;34m)\u001b[0m\u001b[0;34m\u001b[0m\u001b[0m\n",
      "\u001b[0;31mAttributeError\u001b[0m: 'curve' object has no attribute 'plot'"
     ]
    }
   ],
   "source": [
    "\n",
    "scene.width =800\n",
    "scene.height = 800\n",
    "#Create the graphics display for the relative position\n",
    "\n",
    "gd = graph(x=0,y=600,width=600,height=300,\n",
    "    title='Relative position',\n",
    "    xtitle='Time (years)',\n",
    "    ytitle='Relative pos. (Earth radii)')\n",
    "#create the figure for the relative position\n",
    "\n",
    "f1 = curve(gdisplay=gd,color=color.red)\n",
    "#CONSTANTS\n",
    "G = 6.7e-11\n",
    "mEarth = 6e24\n",
    "mcraft = 15e3\n",
    "deltat = 60\n",
    "year_in_s = 365*24*60*60\n",
    "\n",
    "#OBJECTS AND INITIAL VALUES\n",
    "Earth = sphere(pos=vector(0,0,0), radius=6.4e6, color=color.cyan)\n",
    "craft = sphere(pos=vector(-10*Earth.radius, 0,0), radius=1e6, color=color.yellow,make_trail=True) #trail= curve(color=craft.color)    ## for leaving a trail behind the craft\n",
    "vcraft = vector(0,2e3,0)\n",
    "pcraft = mcraft*vcraft\n",
    "t = 0\n",
    "\n",
    "#CALCULATION LOOP: ALL REPEATED CALCULATIONS GO INSIDE THE LOOP\n",
    "while t < 10*year_in_s:\n",
    "    rate(1000)          ## slow down motion to make animation look nicer\n",
    "    rce       = craft.pos-Earth.pos\n",
    "    f1.plot(pos=(t/year_in_s,mag(rce)/Earth.radius))\n",
    "    Fg_mag    = G * mEarth * mcraft /mag(rce) ** 2\n",
    "    Fg_hat    = -norm(rce)\n",
    "    Fnet      = Fg_mag * Fg_hat\n",
    "    pcraft    = pcraft + Fnet * deltat\n",
    "    craft.pos = craft.pos + (pcraft/mcraft)*deltat\n",
    "    trail.append(pos=craft.pos)\n",
    "    t = t+deltat\n",
    "    \n",
    "    "
   ]
  }
 ],
 "metadata": {
  "kernelspec": {
   "display_name": "Python 3",
   "language": "python",
   "name": "python3"
  },
  "language_info": {
   "codemirror_mode": {
    "name": "ipython",
    "version": 2
   },
   "file_extension": ".py",
   "mimetype": "text/x-python",
   "name": "python",
   "nbconvert_exporter": "python",
   "pygments_lexer": "ipython2",
   "version": "2.7.13"
  }
 },
 "nbformat": 4,
 "nbformat_minor": 2
}
